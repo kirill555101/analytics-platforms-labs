{
 "cells": [
  {
   "cell_type": "markdown",
   "metadata": {},
   "source": [
    "# Задание 3\n",
    "## Цель задания\n",
    "* Обработка кардиологического дата-сета для решения задач бинарной классификации\n",
    "## Ключевой навык\n",
    "* Применение AutoML моделей, расчет точности классификатора\n",
    "## Датасет\n",
    "* Необходимо загрузить датасет, расположенный по адресу (см. файлы с названием «модуль 3….»): https://github.com/AI-is-out-there/data2lab.git.\n",
    "## Задание\n",
    "1.\tСформировать обучающую выборку из загруженного датасета, состоящую из столбцов: ['Count_subj', 'rr_interval', 'p_end',  'qrs_onset', 'qrs_end', 'p_axis', 'qrs_axis', 't_axis', 'Healthy_Status’]. Датасет состоит из числовых параметров ЭКГ и классификационного признака Healthy_Status. \n",
    "2.\tИспользуя выбранные ранее решения AutoML, найдите наиболее эффективное, используя такие метрика качества как: матрица ошибок (confusion matrix) и F1-метрика для оценки обученного классификатора по признаку Healthy_Status на основе данных параметров ЭКГ. \n",
    "3.\tУсовершенствуйте решения за счет предобработки исходных данных\n",
    "4.\tПроверьте свои модели на тестовой и валидационной выборке."
   ]
  },
  {
   "cell_type": "code",
   "execution_count": 1,
   "metadata": {},
   "outputs": [],
   "source": [
    "import pandas as pd\n",
    "import numpy as np\n",
    "from sklearn.model_selection import train_test_split\n",
    "from sklearn.metrics import confusion_matrix, f1_score\n",
    "from imblearn.over_sampling import SMOTE\n",
    "import matplotlib.pyplot as plt\n",
    "import seaborn as sns\n",
    "from scipy.stats import zscore\n",
    "\n",
    "from fedot.api.main import Fedot\n",
    "from lightautoml.automl.presets.tabular_presets import TabularAutoML\n",
    "from lightautoml.tasks import Task\n",
    "import h2o\n",
    "from h2o.automl import H2OAutoML\n",
    "\n",
    "import joblib\n",
    "from fastapi import FastAPI\n",
    "from pydantic import BaseModel\n",
    "import uvicorn\n",
    "from threading import Thread\n",
    "\n",
    "import warnings\n",
    "warnings.filterwarnings(\"ignore\")"
   ]
  },
  {
   "cell_type": "code",
   "execution_count": 2,
   "metadata": {},
   "outputs": [
    {
     "data": {
      "text/html": [
       "<div>\n",
       "<style scoped>\n",
       "    .dataframe tbody tr th:only-of-type {\n",
       "        vertical-align: middle;\n",
       "    }\n",
       "\n",
       "    .dataframe tbody tr th {\n",
       "        vertical-align: top;\n",
       "    }\n",
       "\n",
       "    .dataframe thead th {\n",
       "        text-align: right;\n",
       "    }\n",
       "</style>\n",
       "<table border=\"1\" class=\"dataframe\">\n",
       "  <thead>\n",
       "    <tr style=\"text-align: right;\">\n",
       "      <th></th>\n",
       "      <th>Count_subj</th>\n",
       "      <th>rr_interval</th>\n",
       "      <th>p_end</th>\n",
       "      <th>qrs_onset</th>\n",
       "      <th>qrs_end</th>\n",
       "      <th>p_axis</th>\n",
       "      <th>qrs_axis</th>\n",
       "      <th>t_axis</th>\n",
       "      <th>Healthy_Status</th>\n",
       "    </tr>\n",
       "  </thead>\n",
       "  <tbody>\n",
       "    <tr>\n",
       "      <th>0</th>\n",
       "      <td>27</td>\n",
       "      <td>659</td>\n",
       "      <td>128</td>\n",
       "      <td>170</td>\n",
       "      <td>258</td>\n",
       "      <td>81</td>\n",
       "      <td>77</td>\n",
       "      <td>79</td>\n",
       "      <td>0</td>\n",
       "    </tr>\n",
       "    <tr>\n",
       "      <th>1</th>\n",
       "      <td>93</td>\n",
       "      <td>722</td>\n",
       "      <td>124</td>\n",
       "      <td>162</td>\n",
       "      <td>246</td>\n",
       "      <td>77</td>\n",
       "      <td>75</td>\n",
       "      <td>70</td>\n",
       "      <td>0</td>\n",
       "    </tr>\n",
       "    <tr>\n",
       "      <th>2</th>\n",
       "      <td>3</td>\n",
       "      <td>600</td>\n",
       "      <td>130</td>\n",
       "      <td>162</td>\n",
       "      <td>244</td>\n",
       "      <td>79</td>\n",
       "      <td>72</td>\n",
       "      <td>77</td>\n",
       "      <td>1</td>\n",
       "    </tr>\n",
       "    <tr>\n",
       "      <th>3</th>\n",
       "      <td>7</td>\n",
       "      <td>659</td>\n",
       "      <td>146</td>\n",
       "      <td>180</td>\n",
       "      <td>254</td>\n",
       "      <td>79</td>\n",
       "      <td>66</td>\n",
       "      <td>69</td>\n",
       "      <td>1</td>\n",
       "    </tr>\n",
       "    <tr>\n",
       "      <th>4</th>\n",
       "      <td>2</td>\n",
       "      <td>659</td>\n",
       "      <td>29999</td>\n",
       "      <td>504</td>\n",
       "      <td>590</td>\n",
       "      <td>84</td>\n",
       "      <td>80</td>\n",
       "      <td>77</td>\n",
       "      <td>0</td>\n",
       "    </tr>\n",
       "  </tbody>\n",
       "</table>\n",
       "</div>"
      ],
      "text/plain": [
       "   Count_subj  rr_interval  p_end  qrs_onset  qrs_end  p_axis  qrs_axis  \\\n",
       "0          27          659    128        170      258      81        77   \n",
       "1          93          722    124        162      246      77        75   \n",
       "2           3          600    130        162      244      79        72   \n",
       "3           7          659    146        180      254      79        66   \n",
       "4           2          659  29999        504      590      84        80   \n",
       "\n",
       "   t_axis  Healthy_Status  \n",
       "0      79               0  \n",
       "1      70               0  \n",
       "2      77               1  \n",
       "3      69               1  \n",
       "4      77               0  "
      ]
     },
     "execution_count": 2,
     "metadata": {},
     "output_type": "execute_result"
    }
   ],
   "source": [
    "# Формирование обучающей выборки\n",
    "df = pd.read_csv('data.csv')\n",
    "cols = ['Count_subj', 'rr_interval', 'p_end', 'qrs_onset', 'qrs_end', 'p_axis', 'qrs_axis', 't_axis', 'Healthy_Status']\n",
    "df = df[cols]\n",
    "df.head()"
   ]
  },
  {
   "cell_type": "code",
   "execution_count": 3,
   "metadata": {},
   "outputs": [],
   "source": [
    "# Разделение на обучающую и тестовую части\n",
    "X = df.drop(columns=['Healthy_Status'])\n",
    "y = df['Healthy_Status']\n",
    "X_train, X_test, y_train, y_test = train_test_split(X, y, test_size=0.3, random_state=42, stratify=y)"
   ]
  },
  {
   "cell_type": "code",
   "execution_count": 27,
   "metadata": {},
   "outputs": [],
   "source": [
    "# Результаты обучения\n",
    "results = []"
   ]
  },
  {
   "cell_type": "code",
   "execution_count": 28,
   "metadata": {},
   "outputs": [
    {
     "name": "stdout",
     "output_type": "stream",
     "text": [
      "2025-04-21 01:41:40,547 - ApiComposer - Initial pipeline was fitted in 1.6 sec.\n",
      "2025-04-21 01:41:40,550 - ApiComposer - Taking into account n_folds=5, estimated fit time for initial assumption is 7.9 sec.\n",
      "2025-04-21 01:41:40,551 - AssumptionsHandler - Preset was changed to best_quality due to fit time estimation for initial model.\n",
      "2025-04-21 01:41:40,559 - ApiComposer - AutoML configured. Parameters tuning: True. Time limit: 5 min. Set of candidate models: ['bernb', 'catboost', 'dt', 'fast_ica', 'isolation_forest_class', 'knn', 'lgbm', 'logit', 'mlp', 'normalization', 'pca', 'poly_features', 'qda', 'resample', 'rf', 'scaling', 'xgboost'].\n",
      "2025-04-21 01:41:40,657 - ApiComposer - Pipeline composition started.\n"
     ]
    },
    {
     "name": "stderr",
     "output_type": "stream",
     "text": [
      "Generations:   0%|          | 0/10000 [00:00<?, ?gen/s]"
     ]
    },
    {
     "name": "stdout",
     "output_type": "stream",
     "text": [
      "2025-04-21 01:41:53,054 - Topological features operation requires extra dependencies for time series forecasting, which are not installed. It can infuence the performance. Please install it by 'pip install fedot[extra]'\n",
      "2025-04-21 01:41:53,054 - Topological features operation requires extra dependencies for time series forecasting, which are not installed. It can infuence the performance. Please install it by 'pip install fedot[extra]'\n",
      "2025-04-21 01:41:53,054 - Topological features operation requires extra dependencies for time series forecasting, which are not installed. It can infuence the performance. Please install it by 'pip install fedot[extra]'\n",
      "2025-04-21 01:41:53,054 - Topological features operation requires extra dependencies for time series forecasting, which are not installed. It can infuence the performance. Please install it by 'pip install fedot[extra]'\n",
      "2025-04-21 01:41:53,054 - Topological features operation requires extra dependencies for time series forecasting, which are not installed. It can infuence the performance. Please install it by 'pip install fedot[extra]'\n",
      "2025-04-21 01:41:53,054 - Topological features operation requires extra dependencies for time series forecasting, which are not installed. It can infuence the performance. Please install it by 'pip install fedot[extra]'\n",
      "2025-04-21 01:41:56,722 - MultiprocessingDispatcher - 6 individuals out of 6 in previous population were evaluated successfully.\n",
      "2025-04-21 01:42:04,344 - Topological features operation requires extra dependencies for time series forecasting, which are not installed. It can infuence the performance. Please install it by 'pip install fedot[extra]'\n",
      "2025-04-21 01:42:04,344 - Topological features operation requires extra dependencies for time series forecasting, which are not installed. It can infuence the performance. Please install it by 'pip install fedot[extra]'\n",
      "2025-04-21 01:42:19,000 - MultiprocessingDispatcher - 21 individuals out of 21 in previous population were evaluated successfully.\n",
      "2025-04-21 01:42:37,683 - MultiprocessingDispatcher - 10 individuals out of 10 in previous population were evaluated successfully.\n",
      "2025-04-21 01:42:38,576 - MultiprocessingDispatcher - 2 individuals out of 2 in previous population were evaluated successfully.\n"
     ]
    },
    {
     "name": "stderr",
     "output_type": "stream",
     "text": [
      "Generations:   0%|          | 1/10000 [00:57<160:38:49, 57.84s/gen]"
     ]
    },
    {
     "name": "stdout",
     "output_type": "stream",
     "text": [
      "2025-04-21 01:42:41,514 - MultiprocessingDispatcher - 12 individuals out of 12 in previous population were evaluated successfully.\n",
      "2025-04-21 01:42:42,150 - MultiprocessingDispatcher - 8 individuals out of 8 in previous population were evaluated successfully.\n"
     ]
    },
    {
     "name": "stderr",
     "output_type": "stream",
     "text": [
      "Generations:   0%|          | 2/10000 [01:01<71:58:47, 25.92s/gen] "
     ]
    },
    {
     "name": "stdout",
     "output_type": "stream",
     "text": [
      "2025-04-21 01:42:46,793 - MultiprocessingDispatcher - 18 individuals out of 18 in previous population were evaluated successfully.\n",
      "2025-04-21 01:42:51,648 - MultiprocessingDispatcher - 12 individuals out of 13 in previous population were evaluated successfully.\n",
      "2025-04-21 01:42:51,954 - MultiprocessingDispatcher - 3 individuals out of 3 in previous population were evaluated successfully.\n"
     ]
    },
    {
     "name": "stderr",
     "output_type": "stream",
     "text": [
      "Generations:   0%|          | 3/10000 [01:11<51:32:35, 18.56s/gen]"
     ]
    },
    {
     "name": "stdout",
     "output_type": "stream",
     "text": [
      "2025-04-21 01:42:55,279 - MultiprocessingDispatcher - 30 individuals out of 32 in previous population were evaluated successfully.\n",
      "2025-04-21 01:42:58,632 - MultiprocessingDispatcher - 22 individuals out of 22 in previous population were evaluated successfully.\n",
      "2025-04-21 01:42:59,175 - MultiprocessingDispatcher - 5 individuals out of 6 in previous population were evaluated successfully.\n",
      "2025-04-21 01:42:59,190 - MultiprocessingDispatcher - 11 individuals out of 11 in previous population were evaluated successfully.\n"
     ]
    },
    {
     "name": "stderr",
     "output_type": "stream",
     "text": [
      "Generations:   0%|          | 4/10000 [01:18<39:07:06, 14.09s/gen]"
     ]
    },
    {
     "name": "stdout",
     "output_type": "stream",
     "text": [
      "2025-04-21 01:43:01,968 - MultiprocessingDispatcher - 9 individuals out of 9 in previous population were evaluated successfully.\n",
      "2025-04-21 01:43:18,889 - MultiprocessingDispatcher - 3 individuals out of 3 in previous population were evaluated successfully.\n"
     ]
    },
    {
     "name": "stderr",
     "output_type": "stream",
     "text": [
      "Generations:   0%|          | 5/10000 [01:38<44:44:00, 16.11s/gen]"
     ]
    },
    {
     "name": "stdout",
     "output_type": "stream",
     "text": [
      "2025-04-21 01:43:35,510 - MultiprocessingDispatcher - 9 individuals out of 9 in previous population were evaluated successfully.\n",
      "2025-04-21 01:43:36,672 - MultiprocessingDispatcher - 4 individuals out of 4 in previous population were evaluated successfully.\n"
     ]
    },
    {
     "name": "stderr",
     "output_type": "stream",
     "text": [
      "Generations:   0%|          | 6/10000 [01:55<46:18:22, 16.68s/gen]"
     ]
    },
    {
     "name": "stdout",
     "output_type": "stream",
     "text": [
      "2025-04-21 01:43:40,523 - MultiprocessingDispatcher - 10 individuals out of 10 in previous population were evaluated successfully.\n"
     ]
    },
    {
     "name": "stderr",
     "output_type": "stream",
     "text": [
      "Generations:   0%|          | 7/10000 [01:59<34:39:32, 12.49s/gen]"
     ]
    },
    {
     "name": "stdout",
     "output_type": "stream",
     "text": [
      "2025-04-21 01:43:41,475 - MultiprocessingDispatcher - 8 individuals out of 9 in previous population were evaluated successfully.\n",
      "2025-04-21 01:43:41,778 - MultiprocessingDispatcher - 3 individuals out of 4 in previous population were evaluated successfully.\n"
     ]
    },
    {
     "name": "stderr",
     "output_type": "stream",
     "text": [
      "Generations:   0%|          | 8/10000 [02:01<24:43:55,  8.91s/gen]"
     ]
    },
    {
     "name": "stdout",
     "output_type": "stream",
     "text": [
      "2025-04-21 01:43:42,209 - MultiprocessingDispatcher - 8 individuals out of 8 in previous population were evaluated successfully.\n",
      "2025-04-21 01:43:42,609 - MultiprocessingDispatcher - 4 individuals out of 4 in previous population were evaluated successfully.\n",
      "2025-04-21 01:43:43,615 - MultiprocessingDispatcher - 5 individuals out of 5 in previous population were evaluated successfully.\n"
     ]
    },
    {
     "name": "stderr",
     "output_type": "stream",
     "text": [
      "Generations:   0%|          | 9/10000 [02:02<18:35:28,  6.70s/gen]"
     ]
    },
    {
     "name": "stdout",
     "output_type": "stream",
     "text": [
      "2025-04-21 01:43:44,916 - MultiprocessingDispatcher - 4 individuals out of 4 in previous population were evaluated successfully.\n",
      "2025-04-21 01:43:45,462 - MultiprocessingDispatcher - 4 individuals out of 4 in previous population were evaluated successfully.\n"
     ]
    },
    {
     "name": "stderr",
     "output_type": "stream",
     "text": [
      "Generations:   0%|          | 10/10000 [02:04<14:26:00,  5.20s/gen]"
     ]
    },
    {
     "name": "stdout",
     "output_type": "stream",
     "text": [
      "2025-04-21 01:43:45,928 - MultiprocessingDispatcher - 4 individuals out of 4 in previous population were evaluated successfully.\n",
      "2025-04-21 01:43:48,544 - MultiprocessingDispatcher - 3 individuals out of 3 in previous population were evaluated successfully.\n"
     ]
    },
    {
     "name": "stderr",
     "output_type": "stream",
     "text": [
      "Generations:   0%|          | 11/10000 [02:07<12:37:56,  4.55s/gen]"
     ]
    },
    {
     "name": "stdout",
     "output_type": "stream",
     "text": [
      "2025-04-21 01:43:50,705 - MultiprocessingDispatcher - 3 individuals out of 3 in previous population were evaluated successfully.\n",
      "2025-04-21 01:43:52,630 - MultiprocessingDispatcher - 3 individuals out of 3 in previous population were evaluated successfully.\n"
     ]
    },
    {
     "name": "stderr",
     "output_type": "stream",
     "text": [
      "Generations:   0%|          | 12/10000 [02:11<12:14:13,  4.41s/gen]"
     ]
    },
    {
     "name": "stdout",
     "output_type": "stream",
     "text": [
      "2025-04-21 01:43:54,636 - MultiprocessingDispatcher - 4 individuals out of 4 in previous population were evaluated successfully.\n",
      "2025-04-21 01:43:56,610 - MultiprocessingDispatcher - 4 individuals out of 4 in previous population were evaluated successfully.\n"
     ]
    },
    {
     "name": "stderr",
     "output_type": "stream",
     "text": [
      "Generations:   0%|          | 13/10000 [02:15<11:52:29,  4.28s/gen]"
     ]
    },
    {
     "name": "stdout",
     "output_type": "stream",
     "text": [
      "2025-04-21 01:43:57,149 - MultiprocessingDispatcher - 4 individuals out of 4 in previous population were evaluated successfully.\n",
      "2025-04-21 01:43:57,825 - MultiprocessingDispatcher - 4 individuals out of 4 in previous population were evaluated successfully.\n",
      "2025-04-21 01:43:58,235 - MultiprocessingDispatcher - 5 individuals out of 5 in previous population were evaluated successfully.\n"
     ]
    },
    {
     "name": "stderr",
     "output_type": "stream",
     "text": [
      "Generations:   0%|          | 14/10000 [02:17<9:38:50,  3.48s/gen] "
     ]
    },
    {
     "name": "stdout",
     "output_type": "stream",
     "text": [
      "2025-04-21 01:43:58,805 - MultiprocessingDispatcher - 3 individuals out of 3 in previous population were evaluated successfully.\n",
      "2025-04-21 01:43:59,578 - MultiprocessingDispatcher - 4 individuals out of 4 in previous population were evaluated successfully.\n"
     ]
    },
    {
     "name": "stderr",
     "output_type": "stream",
     "text": [
      "Generations:   0%|          | 15/10000 [02:18<7:51:44,  2.83s/gen]"
     ]
    },
    {
     "name": "stdout",
     "output_type": "stream",
     "text": [
      "2025-04-21 01:44:01,442 - MultiprocessingDispatcher - 3 individuals out of 3 in previous population were evaluated successfully.\n",
      "2025-04-21 01:44:01,855 - MultiprocessingDispatcher - 3 individuals out of 3 in previous population were evaluated successfully.\n"
     ]
    },
    {
     "name": "stderr",
     "output_type": "stream",
     "text": [
      "Generations:   0%|          | 16/10000 [02:21<7:23:45,  2.67s/gen]"
     ]
    },
    {
     "name": "stdout",
     "output_type": "stream",
     "text": [
      "2025-04-21 01:44:21,000 - MultiprocessingDispatcher - 3 individuals out of 3 in previous population were evaluated successfully.\n",
      "2025-04-21 01:44:21,630 - MultiprocessingDispatcher - 2 individuals out of 2 in previous population were evaluated successfully.\n"
     ]
    },
    {
     "name": "stderr",
     "output_type": "stream",
     "text": [
      "Generations:   0%|          | 17/10000 [02:40<21:39:42,  7.81s/gen]"
     ]
    },
    {
     "name": "stdout",
     "output_type": "stream",
     "text": [
      "2025-04-21 01:44:24,288 - MultiprocessingDispatcher - 4 individuals out of 4 in previous population were evaluated successfully.\n",
      "2025-04-21 01:44:26,825 - MultiprocessingDispatcher - 4 individuals out of 4 in previous population were evaluated successfully.\n"
     ]
    },
    {
     "name": "stderr",
     "output_type": "stream",
     "text": [
      "Generations:   0%|          | 18/10000 [02:46<19:28:47,  7.03s/gen]"
     ]
    },
    {
     "name": "stdout",
     "output_type": "stream",
     "text": [
      "2025-04-21 01:44:27,349 - MultiprocessingDispatcher - 2 individuals out of 2 in previous population were evaluated successfully.\n",
      "2025-04-21 01:44:27,922 - MultiprocessingDispatcher - 3 individuals out of 3 in previous population were evaluated successfully.\n",
      "2025-04-21 01:44:28,278 - MultiprocessingDispatcher - 5 individuals out of 5 in previous population were evaluated successfully.\n"
     ]
    },
    {
     "name": "stderr",
     "output_type": "stream",
     "text": [
      "Generations:   0%|          | 19/10000 [02:47<14:50:10,  5.35s/gen]"
     ]
    },
    {
     "name": "stdout",
     "output_type": "stream",
     "text": [
      "2025-04-21 01:44:28,712 - MultiprocessingDispatcher - 4 individuals out of 4 in previous population were evaluated successfully.\n",
      "2025-04-21 01:44:29,133 - MultiprocessingDispatcher - 4 individuals out of 4 in previous population were evaluated successfully.\n"
     ]
    },
    {
     "name": "stderr",
     "output_type": "stream",
     "text": [
      "Generations:   0%|          | 20/10000 [02:48<11:05:32,  4.00s/gen]"
     ]
    },
    {
     "name": "stdout",
     "output_type": "stream",
     "text": [
      "2025-04-21 01:44:29,498 - MultiprocessingDispatcher - 4 individuals out of 4 in previous population were evaluated successfully.\n",
      "2025-04-21 01:44:29,816 - MultiprocessingDispatcher - 4 individuals out of 4 in previous population were evaluated successfully.\n"
     ]
    },
    {
     "name": "stderr",
     "output_type": "stream",
     "text": [
      "Generations:   0%|          | 21/10000 [02:49<8:19:49,  3.01s/gen] "
     ]
    },
    {
     "name": "stdout",
     "output_type": "stream",
     "text": [
      "2025-04-21 01:44:30,167 - MultiprocessingDispatcher - 2 individuals out of 2 in previous population were evaluated successfully.\n",
      "2025-04-21 01:44:30,744 - MultiprocessingDispatcher - 4 individuals out of 4 in previous population were evaluated successfully.\n"
     ]
    },
    {
     "name": "stderr",
     "output_type": "stream",
     "text": [
      "Generations:   0%|          | 22/10000 [02:50<6:36:07,  2.38s/gen]"
     ]
    },
    {
     "name": "stdout",
     "output_type": "stream",
     "text": [
      "2025-04-21 01:44:31,067 - MultiprocessingDispatcher - 1 individuals out of 1 in previous population were evaluated successfully.\n",
      "2025-04-21 01:44:31,795 - MultiprocessingDispatcher - 3 individuals out of 4 in previous population were evaluated successfully.\n",
      "2025-04-21 01:44:32,184 - MultiprocessingDispatcher - 1 individuals out of 1 in previous population were evaluated successfully.\n"
     ]
    },
    {
     "name": "stderr",
     "output_type": "stream",
     "text": [
      "Generations:   0%|          | 23/10000 [02:51<5:49:04,  2.10s/gen]"
     ]
    },
    {
     "name": "stdout",
     "output_type": "stream",
     "text": [
      "2025-04-21 01:44:34,216 - MultiprocessingDispatcher - 3 individuals out of 3 in previous population were evaluated successfully.\n",
      "2025-04-21 01:44:36,975 - MultiprocessingDispatcher - 2 individuals out of 3 in previous population were evaluated successfully.\n",
      "2025-04-21 01:44:37,495 - MultiprocessingDispatcher - 3 individuals out of 5 in previous population were evaluated successfully.\n"
     ]
    },
    {
     "name": "stderr",
     "output_type": "stream",
     "text": [
      "Generations:   0%|          | 24/10000 [02:56<8:29:11,  3.06s/gen]"
     ]
    },
    {
     "name": "stdout",
     "output_type": "stream",
     "text": [
      "2025-04-21 01:44:37,500 - GroupedCondition - Optimisation stopped: Time limit is reached\n"
     ]
    },
    {
     "name": "stderr",
     "output_type": "stream",
     "text": [
      "Generations:   0%|          | 24/10000 [02:56<20:24:33,  7.36s/gen]"
     ]
    },
    {
     "name": "stdout",
     "output_type": "stream",
     "text": [
      "2025-04-21 01:44:37,574 - ApiComposer - Hyperparameters tuning started with 2 min. timeout\n"
     ]
    },
    {
     "name": "stderr",
     "output_type": "stream",
     "text": [
      "\n"
     ]
    },
    {
     "name": "stdout",
     "output_type": "stream",
     "text": [
      "2025-04-21 01:44:40,947 - SimultaneousTuner - Initial graph: {'depth': 1, 'length': 1, 'nodes': [catboost]}\n",
      "catboost - {'n_jobs': 1, 'num_trees': 3000, 'learning_rate': 0.03, 'l2_leaf_reg': 0.01, 'bootstrap_type': 'Bernoulli', 'grow_policy': 'SymmetricTree', 'max_depth': 5, 'min_data_in_leaf': 1, 'one_hot_max_size': 10, 'fold_permutation_block': 1, 'boosting_type': 'Plain', 'od_type': 'Iter', 'od_wait': 100, 'max_bin': 32, 'feature_border_type': 'GreedyLogSum', 'nan_mode': 'Min', 'verbose': False, 'allow_writing_files': False, 'use_eval_set': True, 'use_best_model': True, 'enable_categorical': True} \n",
      "Initial metric: [0.911]\n",
      "  0%|          | 265/100000 [01:57<12:20:09,  2.25trial/s, best loss: inf]\n",
      "2025-04-21 01:46:39,310 - SimultaneousTuner - Final graph: {'depth': 1, 'length': 1, 'nodes': [catboost]}\n",
      "catboost - {'n_jobs': 1, 'num_trees': 3000, 'learning_rate': 0.03, 'l2_leaf_reg': 0.01, 'bootstrap_type': 'Bernoulli', 'grow_policy': 'SymmetricTree', 'max_depth': 5, 'min_data_in_leaf': 1, 'one_hot_max_size': 10, 'fold_permutation_block': 1, 'boosting_type': 'Plain', 'od_type': 'Iter', 'od_wait': 100, 'max_bin': 32, 'feature_border_type': 'GreedyLogSum', 'nan_mode': 'Min', 'verbose': False, 'allow_writing_files': False, 'use_eval_set': True, 'use_best_model': True, 'enable_categorical': True}\n",
      "2025-04-21 01:46:39,313 - SimultaneousTuner - Final metric: 0.911\n",
      "2025-04-21 01:46:39,315 - ApiComposer - Hyperparameters tuning finished\n",
      "2025-04-21 01:46:39,584 - ApiComposer - Model generation finished\n",
      "2025-04-21 01:46:40,350 - FEDOT logger - Final pipeline was fitted\n",
      "2025-04-21 01:46:40,352 - FEDOT logger - Final pipeline: {'depth': 1, 'length': 1, 'nodes': [catboost]}\n",
      "catboost - {'n_jobs': 8, 'num_trees': 3000, 'learning_rate': 0.03, 'l2_leaf_reg': 0.01, 'bootstrap_type': 'Bernoulli', 'grow_policy': 'SymmetricTree', 'max_depth': 5, 'min_data_in_leaf': 1, 'one_hot_max_size': 10, 'fold_permutation_block': 1, 'boosting_type': 'Plain', 'od_type': 'Iter', 'od_wait': 100, 'max_bin': 32, 'feature_border_type': 'GreedyLogSum', 'nan_mode': 'Min', 'verbose': False, 'allow_writing_files': False, 'use_eval_set': True, 'use_best_model': True, 'enable_categorical': True}\n"
     ]
    }
   ],
   "source": [
    "# FEDOT\n",
    "fedot_model = Fedot(problem='classification', timeout=5)\n",
    "fedot_model.fit(features=X_train, target=y_train)\n",
    "fedot_preds = fedot_model.predict(features=X_test)\n",
    "\n",
    "fedot_f1_macro = f1_score(y_test, fedot_preds, average='macro')\n",
    "fedot_f1_weighted = f1_score(y_test, fedot_preds, average='weighted')\n",
    "fedot_cm = confusion_matrix(y_test, fedot_preds)\n",
    "\n",
    "results.append({\n",
    "    'AutoML': 'FEDOT',\n",
    "    'F1 Macro': fedot_f1_macro,\n",
    "    'F1 Weighted': fedot_f1_weighted,\n",
    "    'Confusion Matrix': fedot_cm\n",
    "})"
   ]
  },
  {
   "cell_type": "code",
   "execution_count": 29,
   "metadata": {},
   "outputs": [],
   "source": [
    "# LAMA\n",
    "train_data = pd.concat([X_train, y_train], axis=1)\n",
    "test_data = pd.concat([X_test, y_test], axis=1)\n",
    "\n",
    "task = Task('binary') \n",
    "automl = TabularAutoML(task, timeout=300, cpu_limit=1)\n",
    "oof_pred = automl.fit_predict(train_data, roles={'target': 'Healthy_Status'})\n",
    "test_pred = automl.predict(test_data).data[:, 0]\n",
    "\n",
    "test_pred_labels = (test_pred > 0.5).astype(int)\n",
    "lama_f1_macro = f1_score(y_test, test_pred_labels, average='macro')\n",
    "lama_f1_weighted = f1_score(y_test, test_pred_labels, average='weighted')\n",
    "lama_cm = confusion_matrix(y_test, test_pred_labels)\n",
    "\n",
    "results.append({\n",
    "    'AutoML': 'LightAutoML',\n",
    "    'F1 Macro': lama_f1_macro,\n",
    "    'F1 Weighted': lama_f1_weighted,\n",
    "    'Confusion Matrix': lama_cm\n",
    "})"
   ]
  },
  {
   "cell_type": "code",
   "execution_count": 30,
   "metadata": {},
   "outputs": [
    {
     "name": "stdout",
     "output_type": "stream",
     "text": [
      "Checking whether there is an H2O instance running at http://localhost:54321. connected.\n"
     ]
    },
    {
     "data": {
      "text/html": [
       "\n",
       "<style>\n",
       "\n",
       "#h2o-table-5.h2o-container {\n",
       "  overflow-x: auto;\n",
       "}\n",
       "#h2o-table-5 .h2o-table {\n",
       "  /* width: 100%; */\n",
       "  margin-top: 1em;\n",
       "  margin-bottom: 1em;\n",
       "}\n",
       "#h2o-table-5 .h2o-table caption {\n",
       "  white-space: nowrap;\n",
       "  caption-side: top;\n",
       "  text-align: left;\n",
       "  /* margin-left: 1em; */\n",
       "  margin: 0;\n",
       "  font-size: larger;\n",
       "}\n",
       "#h2o-table-5 .h2o-table thead {\n",
       "  white-space: nowrap; \n",
       "  position: sticky;\n",
       "  top: 0;\n",
       "  box-shadow: 0 -1px inset;\n",
       "}\n",
       "#h2o-table-5 .h2o-table tbody {\n",
       "  overflow: auto;\n",
       "}\n",
       "#h2o-table-5 .h2o-table th,\n",
       "#h2o-table-5 .h2o-table td {\n",
       "  text-align: right;\n",
       "  /* border: 1px solid; */\n",
       "}\n",
       "#h2o-table-5 .h2o-table tr:nth-child(even) {\n",
       "  /* background: #F5F5F5 */\n",
       "}\n",
       "\n",
       "</style>      \n",
       "<div id=\"h2o-table-5\" class=\"h2o-container\">\n",
       "  <table class=\"h2o-table\">\n",
       "    <caption></caption>\n",
       "    <thead></thead>\n",
       "    <tbody><tr><td>H2O_cluster_uptime:</td>\n",
       "<td>6 hours 24 mins</td></tr>\n",
       "<tr><td>H2O_cluster_timezone:</td>\n",
       "<td>Europe/Moscow</td></tr>\n",
       "<tr><td>H2O_data_parsing_timezone:</td>\n",
       "<td>UTC</td></tr>\n",
       "<tr><td>H2O_cluster_version:</td>\n",
       "<td>3.46.0.7</td></tr>\n",
       "<tr><td>H2O_cluster_version_age:</td>\n",
       "<td>24 days</td></tr>\n",
       "<tr><td>H2O_cluster_name:</td>\n",
       "<td>H2O_from_python_timerlan_uut7hj</td></tr>\n",
       "<tr><td>H2O_cluster_total_nodes:</td>\n",
       "<td>1</td></tr>\n",
       "<tr><td>H2O_cluster_free_memory:</td>\n",
       "<td>3.840 Gb</td></tr>\n",
       "<tr><td>H2O_cluster_total_cores:</td>\n",
       "<td>8</td></tr>\n",
       "<tr><td>H2O_cluster_allowed_cores:</td>\n",
       "<td>8</td></tr>\n",
       "<tr><td>H2O_cluster_status:</td>\n",
       "<td>locked, healthy</td></tr>\n",
       "<tr><td>H2O_connection_url:</td>\n",
       "<td>http://localhost:54321</td></tr>\n",
       "<tr><td>H2O_connection_proxy:</td>\n",
       "<td>{\"http\": null, \"https\": null}</td></tr>\n",
       "<tr><td>H2O_internal_security:</td>\n",
       "<td>False</td></tr>\n",
       "<tr><td>Python_version:</td>\n",
       "<td>3.9.6 final</td></tr></tbody>\n",
       "  </table>\n",
       "</div>\n"
      ],
      "text/plain": [
       "--------------------------  -------------------------------\n",
       "H2O_cluster_uptime:         6 hours 24 mins\n",
       "H2O_cluster_timezone:       Europe/Moscow\n",
       "H2O_data_parsing_timezone:  UTC\n",
       "H2O_cluster_version:        3.46.0.7\n",
       "H2O_cluster_version_age:    24 days\n",
       "H2O_cluster_name:           H2O_from_python_timerlan_uut7hj\n",
       "H2O_cluster_total_nodes:    1\n",
       "H2O_cluster_free_memory:    3.840 Gb\n",
       "H2O_cluster_total_cores:    8\n",
       "H2O_cluster_allowed_cores:  8\n",
       "H2O_cluster_status:         locked, healthy\n",
       "H2O_connection_url:         http://localhost:54321\n",
       "H2O_connection_proxy:       {\"http\": null, \"https\": null}\n",
       "H2O_internal_security:      False\n",
       "Python_version:             3.9.6 final\n",
       "--------------------------  -------------------------------"
      ]
     },
     "metadata": {},
     "output_type": "display_data"
    },
    {
     "name": "stdout",
     "output_type": "stream",
     "text": [
      "Parse progress: |████████████████████████████████████████████████████████████████| (done) 100%\n",
      "Parse progress: |████████████████████████████████████████████████████████████████| (done) 100%\n",
      "AutoML progress: |\n",
      "01:48:24.327: AutoML: XGBoost is not available; skipping it.\n",
      "\n",
      "███████████████████████████████████████████████████████████████| (done) 100%\n",
      "gbm prediction progress: |███████████████████████████████████████████████████████| (done) 100%\n"
     ]
    }
   ],
   "source": [
    "# H2O AutoML\n",
    "h2o.init()\n",
    "\n",
    "train_df = X_train.copy()\n",
    "train_df['Healthy_Status'] = y_train.values\n",
    "\n",
    "train_h2o = h2o.H2OFrame(train_df)\n",
    "test_h2o = h2o.H2OFrame(X_test)\n",
    "\n",
    "target = 'Healthy_Status'\n",
    "features = [col for col in train_h2o.columns if col != target]\n",
    "\n",
    "train_h2o[target] = train_h2o[target].asfactor()\n",
    "\n",
    "aml = H2OAutoML(\n",
    "    max_runtime_secs=300,\n",
    "    max_models=20,\n",
    "    seed=42,\n",
    "    sort_metric='AUTO',\n",
    "    nfolds=5\n",
    ")\n",
    "\n",
    "aml.train(x=features, y=target, training_frame=train_h2o)\n",
    "\n",
    "preds = aml.leader.predict(test_h2o).as_data_frame()\n",
    "y_pred = preds['predict']\n",
    "\n",
    "h2o_f1_macro = f1_score(y_test, y_pred, average='macro')\n",
    "h2o_f1_weighted = f1_score(y_test, y_pred, average='weighted')\n",
    "h2o_cm = confusion_matrix(y_test, y_pred)\n",
    "\n",
    "results.append({\n",
    "    'AutoML': 'H2O',\n",
    "    'F1 Macro': h2o_f1_macro,\n",
    "    'F1 Weighted': h2o_f1_weighted,\n",
    "    'Confusion Matrix': h2o_cm\n",
    "})"
   ]
  },
  {
   "cell_type": "code",
   "execution_count": 31,
   "metadata": {},
   "outputs": [
    {
     "name": "stdout",
     "output_type": "stream",
     "text": [
      "        AutoML  F1 Macro  F1 Weighted\n",
      "0        FEDOT  0.770166     0.850750\n",
      "1  LightAutoML  0.758031     0.845043\n",
      "2          H2O  0.787243     0.856236\n"
     ]
    },
    {
     "data": {
      "image/png": "[encoded data removed]",
      "text/plain": [
       "<Figure size 1500x400 with 3 Axes>"
      ]
     },
     "metadata": {},
     "output_type": "display_data"
    }
   ],
   "source": [
    "results_df = pd.DataFrame(results).drop(columns=['Confusion Matrix'])\n",
    "print(results_df)\n",
    "\n",
    "n_models = len(results)\n",
    "fig, axes = plt.subplots(1, n_models, figsize=(5 * n_models, 4))\n",
    "\n",
    "if n_models == 1:\n",
    "    axes = [axes]\n",
    "\n",
    "for ax, r in zip(axes, results):\n",
    "    cm = r['Confusion Matrix']\n",
    "    automl_name = r['AutoML']\n",
    "    sns.heatmap(cm, annot=True, fmt='d', cmap='Blues', cbar=False, ax=ax)\n",
    "    ax.set_title(f'Confusion Matrix\\n{automl_name}')\n",
    "    ax.set_xlabel('Predicted')\n",
    "    ax.set_ylabel('Actual')\n",
    "\n",
    "plt.tight_layout()\n",
    "plt.show()"
   ]
  },
  {
   "cell_type": "code",
   "execution_count": 5,
   "metadata": {},
   "outputs": [],
   "source": [
    "# Предобработка данных\n",
    "cols = [col for col in df.columns if col != 'Healthy_Status']\n",
    "X_train_transformed = X_train\n",
    "X_test_transformed = X_test\n",
    "y_train_transformed = y_train\n",
    "\n",
    "# Удаляем выбросы по Z-оценке в обучающей выборке\n",
    "z_scores = np.abs(X_train_transformed.apply(zscore))\n",
    "X_train_transformed = X_train[(z_scores < 3).all(axis=1)].copy()\n",
    "y_train_transformed = y_train[X_train_transformed.index]\n",
    "\n",
    "# Не повышает точность\n",
    "\n",
    "# Масштабируем данные\n",
    "# scaler = MinMaxScaler()\n",
    "# X_train_transformed = pd.DataFrame(scaler.fit_transform(X_train_transformed), columns=cols)\n",
    "# X_test_transformed = pd.DataFrame(scaler.fit_transform(X_test), columns=cols)\n",
    "\n",
    "# # Удаляем сильно коррелирующие признаки (>0.9)\n",
    "# corr_matrix = X_train_filtered.corr().abs()\n",
    "# upper = corr_matrix.where(np.triu(np.ones(corr_matrix.shape), k=1).astype(bool))\n",
    "# to_drop = [column for column in upper.columns if any(upper[column] > 0.9)]\n",
    "# X_train_filtered.drop(columns=to_drop, inplace=True)\n",
    "# X_test_scaled = X_test_scaled.drop(columns=to_drop)\n",
    "\n",
    "# Балансируем классы SMOTE (только для обучающей выборки)\n",
    "smote = SMOTE(random_state=42)\n",
    "X_train_transformed, y_train_transformed = smote.fit_resample(X_train_transformed, y_train_transformed)"
   ]
  },
  {
   "cell_type": "code",
   "execution_count": 10,
   "metadata": {},
   "outputs": [],
   "source": [
    "results_transformed = []"
   ]
  },
  {
   "cell_type": "code",
   "execution_count": 40,
   "metadata": {},
   "outputs": [
    {
     "name": "stdout",
     "output_type": "stream",
     "text": [
      "2025-04-21 04:02:39,422 - ApiComposer - Initial pipeline was fitted in 4.4 sec.\n",
      "2025-04-21 04:02:39,428 - ApiComposer - Taking into account n_folds=5, estimated fit time for initial assumption is 22.2 sec.\n",
      "2025-04-21 04:02:39,432 - AssumptionsHandler - Preset was changed to best_quality due to fit time estimation for initial model.\n",
      "2025-04-21 04:02:39,447 - ApiComposer - AutoML configured. Parameters tuning: True. Time limit: 5 min. Set of candidate models: ['bernb', 'catboost', 'dt', 'fast_ica', 'isolation_forest_class', 'knn', 'lgbm', 'logit', 'mlp', 'normalization', 'pca', 'poly_features', 'qda', 'resample', 'rf', 'scaling', 'xgboost'].\n",
      "2025-04-21 04:02:39,546 - ApiComposer - Pipeline composition started.\n"
     ]
    },
    {
     "name": "stderr",
     "output_type": "stream",
     "text": [
      "Generations:   0%|          | 0/10000 [00:00<?, ?gen/s]"
     ]
    },
    {
     "name": "stdout",
     "output_type": "stream",
     "text": [
      "2025-04-21 04:02:52,303 - Topological features operation requires extra dependencies for time series forecasting, which are not installed. It can infuence the performance. Please install it by 'pip install fedot[extra]'\n",
      "2025-04-21 04:02:52,303 - Topological features operation requires extra dependencies for time series forecasting, which are not installed. It can infuence the performance. Please install it by 'pip install fedot[extra]'\n",
      "2025-04-21 04:02:52,303 - Topological features operation requires extra dependencies for time series forecasting, which are not installed. It can infuence the performance. Please install it by 'pip install fedot[extra]'\n",
      "2025-04-21 04:02:52,303 - Topological features operation requires extra dependencies for time series forecasting, which are not installed. It can infuence the performance. Please install it by 'pip install fedot[extra]'\n",
      "2025-04-21 04:02:52,303 - Topological features operation requires extra dependencies for time series forecasting, which are not installed. It can infuence the performance. Please install it by 'pip install fedot[extra]'\n",
      "2025-04-21 04:02:52,304 - Topological features operation requires extra dependencies for time series forecasting, which are not installed. It can infuence the performance. Please install it by 'pip install fedot[extra]'\n",
      "2025-04-21 04:03:06,022 - MultiprocessingDispatcher - 6 individuals out of 6 in previous population were evaluated successfully.\n",
      "2025-04-21 04:03:15,121 - Topological features operation requires extra dependencies for time series forecasting, which are not installed. It can infuence the performance. Please install it by 'pip install fedot[extra]'\n",
      "2025-04-21 04:03:15,121 - Topological features operation requires extra dependencies for time series forecasting, which are not installed. It can infuence the performance. Please install it by 'pip install fedot[extra]'\n",
      "2025-04-21 04:03:26,112 - MultiprocessingDispatcher - 20 individuals out of 21 in previous population were evaluated successfully.\n",
      "2025-04-21 04:03:43,308 - MultiprocessingDispatcher - 20 individuals out of 20 in previous population were evaluated successfully.\n",
      "2025-04-21 04:03:50,332 - MultiprocessingDispatcher - 14 individuals out of 14 in previous population were evaluated successfully.\n"
     ]
    },
    {
     "name": "stderr",
     "output_type": "stream",
     "text": [
      "ERROR:    Exception in ASGI application\n",
      "Traceback (most recent call last):\n",
      "  File \"/Users/timerlan/Desktop/StudyProjects/4/PPA/.venv/lib/python3.9/site-packages/uvicorn/protocols/http/h11_impl.py\", line 403, in run_asgi\n",
      "    result = await app(  # type: ignore[func-returns-value]\n",
      "  File \"/Users/timerlan/Desktop/StudyProjects/4/PPA/.venv/lib/python3.9/site-packages/uvicorn/middleware/proxy_headers.py\", line 60, in __call__\n",
      "    return await self.app(scope, receive, send)\n",
      "  File \"/Users/timerlan/Desktop/StudyProjects/4/PPA/.venv/lib/python3.9/site-packages/fastapi/applications.py\", line 1054, in __call__\n",
      "    await super().__call__(scope, receive, send)\n",
      "  File \"/Users/timerlan/Desktop/StudyProjects/4/PPA/.venv/lib/python3.9/site-packages/starlette/applications.py\", line 112, in __call__\n",
      "    await self.middleware_stack(scope, receive, send)\n",
      "  File \"/Users/timerlan/Desktop/StudyProjects/4/PPA/.venv/lib/python3.9/site-packages/starlette/middleware/errors.py\", line 187, in __call__\n",
      "    raise exc\n",
      "  File \"/Users/timerlan/Desktop/StudyProjects/4/PPA/.venv/lib/python3.9/site-packages/starlette/middleware/errors.py\", line 165, in __call__\n",
      "    await self.app(scope, receive, _send)\n",
      "  File \"/Users/timerlan/Desktop/StudyProjects/4/PPA/.venv/lib/python3.9/site-packages/starlette/middleware/exceptions.py\", line 62, in __call__\n",
      "    await wrap_app_handling_exceptions(self.app, conn)(scope, receive, send)\n",
      "  File \"/Users/timerlan/Desktop/StudyProjects/4/PPA/.venv/lib/python3.9/site-packages/starlette/_exception_handler.py\", line 53, in wrapped_app\n",
      "    raise exc\n",
      "  File \"/Users/timerlan/Desktop/StudyProjects/4/PPA/.venv/lib/python3.9/site-packages/starlette/_exception_handler.py\", line 42, in wrapped_app\n",
      "    await app(scope, receive, sender)\n",
      "  File \"/Users/timerlan/Desktop/StudyProjects/4/PPA/.venv/lib/python3.9/site-packages/starlette/routing.py\", line 714, in __call__\n",
      "    await self.middleware_stack(scope, receive, send)\n",
      "  File \"/Users/timerlan/Desktop/StudyProjects/4/PPA/.venv/lib/python3.9/site-packages/starlette/routing.py\", line 734, in app\n",
      "    await route.handle(scope, receive, send)\n",
      "  File \"/Users/timerlan/Desktop/StudyProjects/4/PPA/.venv/lib/python3.9/site-packages/starlette/routing.py\", line 288, in handle\n",
      "    await self.app(scope, receive, send)\n",
      "  File \"/Users/timerlan/Desktop/StudyProjects/4/PPA/.venv/lib/python3.9/site-packages/starlette/routing.py\", line 76, in app\n",
      "    await wrap_app_handling_exceptions(app, request)(scope, receive, send)\n",
      "  File \"/Users/timerlan/Desktop/StudyProjects/4/PPA/.venv/lib/python3.9/site-packages/starlette/_exception_handler.py\", line 53, in wrapped_app\n",
      "    raise exc\n",
      "  File \"/Users/timerlan/Desktop/StudyProjects/4/PPA/.venv/lib/python3.9/site-packages/starlette/_exception_handler.py\", line 42, in wrapped_app\n",
      "    await app(scope, receive, sender)\n",
      "  File \"/Users/timerlan/Desktop/StudyProjects/4/PPA/.venv/lib/python3.9/site-packages/starlette/routing.py\", line 73, in app\n",
      "    response = await f(request)\n",
      "  File \"/Users/timerlan/Desktop/StudyProjects/4/PPA/.venv/lib/python3.9/site-packages/fastapi/routing.py\", line 301, in app\n",
      "    raw_response = await run_endpoint_function(\n",
      "  File \"/Users/timerlan/Desktop/StudyProjects/4/PPA/.venv/lib/python3.9/site-packages/fastapi/routing.py\", line 212, in run_endpoint_function\n",
      "    return await dependant.call(**values)\n",
      "  File \"/var/folders/2r/n41m80yd2yn8f157cxmlq47m0000gn/T/ipykernel_31647/2924650261.py\", line 23, in get_metrics\n",
      "    fedot_preds = fedot_model.predict(features=X_test_transformed)\n",
      "  File \"/Users/timerlan/Desktop/StudyProjects/4/PPA/.venv/lib/python3.9/site-packages/fedot/api/main.py\", line 288, in predict\n",
      "    raise ValueError(NOT_FITTED_ERR_MSG)\n",
      "ValueError: Model not fitted yet\n"
     ]
    },
    {
     "name": "stdout",
     "output_type": "stream",
     "text": [
      "INFO:     127.0.0.1:64126 - \"GET /metrics HTTP/1.1\" 307 Temporary Redirect\n",
      "INFO:     127.0.0.1:64126 - \"GET /metrics/ HTTP/1.1\" 500 Internal Server Error\n"
     ]
    },
    {
     "name": "stderr",
     "output_type": "stream",
     "text": [
      "ERROR:    Exception in ASGI application\n",
      "Traceback (most recent call last):\n",
      "  File \"/Users/timerlan/Desktop/StudyProjects/4/PPA/.venv/lib/python3.9/site-packages/uvicorn/protocols/http/h11_impl.py\", line 403, in run_asgi\n",
      "    result = await app(  # type: ignore[func-returns-value]\n",
      "  File \"/Users/timerlan/Desktop/StudyProjects/4/PPA/.venv/lib/python3.9/site-packages/uvicorn/middleware/proxy_headers.py\", line 60, in __call__\n",
      "    return await self.app(scope, receive, send)\n",
      "  File \"/Users/timerlan/Desktop/StudyProjects/4/PPA/.venv/lib/python3.9/site-packages/fastapi/applications.py\", line 1054, in __call__\n",
      "    await super().__call__(scope, receive, send)\n",
      "  File \"/Users/timerlan/Desktop/StudyProjects/4/PPA/.venv/lib/python3.9/site-packages/starlette/applications.py\", line 112, in __call__\n",
      "    await self.middleware_stack(scope, receive, send)\n",
      "  File \"/Users/timerlan/Desktop/StudyProjects/4/PPA/.venv/lib/python3.9/site-packages/starlette/middleware/errors.py\", line 187, in __call__\n",
      "    raise exc\n",
      "  File \"/Users/timerlan/Desktop/StudyProjects/4/PPA/.venv/lib/python3.9/site-packages/starlette/middleware/errors.py\", line 165, in __call__\n",
      "    await self.app(scope, receive, _send)\n",
      "  File \"/Users/timerlan/Desktop/StudyProjects/4/PPA/.venv/lib/python3.9/site-packages/starlette/middleware/exceptions.py\", line 62, in __call__\n",
      "    await wrap_app_handling_exceptions(self.app, conn)(scope, receive, send)\n",
      "  File \"/Users/timerlan/Desktop/StudyProjects/4/PPA/.venv/lib/python3.9/site-packages/starlette/_exception_handler.py\", line 53, in wrapped_app\n",
      "    raise exc\n",
      "  File \"/Users/timerlan/Desktop/StudyProjects/4/PPA/.venv/lib/python3.9/site-packages/starlette/_exception_handler.py\", line 42, in wrapped_app\n",
      "    await app(scope, receive, sender)\n",
      "  File \"/Users/timerlan/Desktop/StudyProjects/4/PPA/.venv/lib/python3.9/site-packages/starlette/routing.py\", line 714, in __call__\n",
      "    await self.middleware_stack(scope, receive, send)\n",
      "  File \"/Users/timerlan/Desktop/StudyProjects/4/PPA/.venv/lib/python3.9/site-packages/starlette/routing.py\", line 734, in app\n",
      "    await route.handle(scope, receive, send)\n",
      "  File \"/Users/timerlan/Desktop/StudyProjects/4/PPA/.venv/lib/python3.9/site-packages/starlette/routing.py\", line 288, in handle\n",
      "    await self.app(scope, receive, send)\n",
      "  File \"/Users/timerlan/Desktop/StudyProjects/4/PPA/.venv/lib/python3.9/site-packages/starlette/routing.py\", line 76, in app\n",
      "    await wrap_app_handling_exceptions(app, request)(scope, receive, send)\n",
      "  File \"/Users/timerlan/Desktop/StudyProjects/4/PPA/.venv/lib/python3.9/site-packages/starlette/_exception_handler.py\", line 53, in wrapped_app\n",
      "    raise exc\n",
      "  File \"/Users/timerlan/Desktop/StudyProjects/4/PPA/.venv/lib/python3.9/site-packages/starlette/_exception_handler.py\", line 42, in wrapped_app\n",
      "    await app(scope, receive, sender)\n",
      "  File \"/Users/timerlan/Desktop/StudyProjects/4/PPA/.venv/lib/python3.9/site-packages/starlette/routing.py\", line 73, in app\n",
      "    response = await f(request)\n",
      "  File \"/Users/timerlan/Desktop/StudyProjects/4/PPA/.venv/lib/python3.9/site-packages/fastapi/routing.py\", line 301, in app\n",
      "    raw_response = await run_endpoint_function(\n",
      "  File \"/Users/timerlan/Desktop/StudyProjects/4/PPA/.venv/lib/python3.9/site-packages/fastapi/routing.py\", line 212, in run_endpoint_function\n",
      "    return await dependant.call(**values)\n",
      "  File \"/var/folders/2r/n41m80yd2yn8f157cxmlq47m0000gn/T/ipykernel_31647/2924650261.py\", line 23, in get_metrics\n",
      "    fedot_preds = fedot_model.predict(features=X_test_transformed)\n",
      "  File \"/Users/timerlan/Desktop/StudyProjects/4/PPA/.venv/lib/python3.9/site-packages/fedot/api/main.py\", line 288, in predict\n",
      "    raise ValueError(NOT_FITTED_ERR_MSG)\n",
      "ValueError: Model not fitted yet\n"
     ]
    },
    {
     "name": "stderr",
     "output_type": "stream",
     "text": [
      "Generations:   0%|          | 1/10000 [01:10<196:17:41, 70.67s/gen]"
     ]
    },
    {
     "name": "stdout",
     "output_type": "stream",
     "text": [
      "2025-04-21 04:19:59,080 - MultiprocessingDispatcher - 24 individuals out of 29 in previous population were evaluated successfully.\n"
     ]
    },
    {
     "name": "stderr",
     "output_type": "stream",
     "text": [
      "Generations:   0%|          | 2/10000 [33:06<3211:09:32, 1156.25s/gen]"
     ]
    },
    {
     "name": "stdout",
     "output_type": "stream",
     "text": [
      "2025-04-21 04:35:46,540 - GroupedCondition - Optimisation stopped: Time limit is reached\n"
     ]
    },
    {
     "name": "stderr",
     "output_type": "stream",
     "text": [
      "Generations:   0%|          | 2/10000 [33:06<2758:59:42, 993.44s/gen] "
     ]
    },
    {
     "name": "stdout",
     "output_type": "stream",
     "text": [
      "2025-04-21 04:35:46,651 - ApiComposer - Time for pipeline composing was 0:33:06.999290.\n",
      "The remaining 28.2 seconds are not enough to tune the hyperparameters.\n",
      "2025-04-21 04:35:46,652 - ApiComposer - Composed pipeline returned without tuning.\n"
     ]
    },
    {
     "name": "stderr",
     "output_type": "stream",
     "text": [
      "\n"
     ]
    },
    {
     "name": "stdout",
     "output_type": "stream",
     "text": [
      "2025-04-21 04:35:46,927 - ApiComposer - Model generation finished\n",
      "2025-04-21 04:35:48,522 - FEDOT logger - Final pipeline was fitted\n",
      "2025-04-21 04:35:48,523 - FEDOT logger - Final pipeline: {'depth': 1, 'length': 1, 'nodes': [rf]}\n",
      "rf - {'n_jobs': 8}\n"
     ]
    }
   ],
   "source": [
    "# FEDOT\n",
    "fedot_model = Fedot(problem='classification', timeout=5)\n",
    "fedot_model.fit(features=X_train_transformed, target=y_train_transformed)\n",
    "fedot_preds = fedot_model.predict(features=X_test_transformed)\n",
    "\n",
    "fedot_f1_macro = f1_score(y_test, fedot_preds, average='macro')\n",
    "fedot_f1_weighted = f1_score(y_test, fedot_preds, average='weighted')\n",
    "fedot_cm = confusion_matrix(y_test, fedot_preds)\n",
    "\n",
    "results_transformed.append({\n",
    "    'AutoML': 'FEDOT',\n",
    "    'F1 Macro': fedot_f1_macro,\n",
    "    'F1 Weighted': fedot_f1_weighted,\n",
    "    'Confusion Matrix': fedot_cm\n",
    "})"
   ]
  },
  {
   "cell_type": "code",
   "execution_count": 15,
   "metadata": {},
   "outputs": [],
   "source": [
    "# LAMA\n",
    "train_data = pd.concat([X_train_transformed, y_train_transformed], axis=1)\n",
    "test_data = pd.concat([X_test_transformed, y_test], axis=1)\n",
    "\n",
    "task = Task('binary') \n",
    "automl = TabularAutoML(task, timeout=300, cpu_limit=1)\n",
    "oof_pred = automl.fit_predict(train_data, roles={'target': 'Healthy_Status'})\n",
    "test_pred = automl.predict(test_data).data[:, 0]\n",
    "\n",
    "test_pred_labels = (test_pred > 0.5).astype(int)\n",
    "lama_f1_macro = f1_score(y_test, test_pred_labels, average='macro')\n",
    "lama_f1_weighted = f1_score(y_test, test_pred_labels, average='weighted')\n",
    "lama_cm = confusion_matrix(y_test, test_pred_labels)\n",
    "\n",
    "results_transformed.append({\n",
    "    'AutoML': 'LightAutoML',\n",
    "    'F1 Macro': lama_f1_macro,\n",
    "    'F1 Weighted': lama_f1_weighted,\n",
    "    'Confusion Matrix': lama_cm\n",
    "})"
   ]
  },
  {
   "cell_type": "code",
   "execution_count": 16,
   "metadata": {},
   "outputs": [
    {
     "name": "stdout",
     "output_type": "stream",
     "text": [
      "Checking whether there is an H2O instance running at http://localhost:54321. connected.\n"
     ]
    },
    {
     "data": {
      "text/html": [
       "\n",
       "<style>\n",
       "\n",
       "#h2o-table-3.h2o-container {\n",
       "  overflow-x: auto;\n",
       "}\n",
       "#h2o-table-3 .h2o-table {\n",
       "  /* width: 100%; */\n",
       "  margin-top: 1em;\n",
       "  margin-bottom: 1em;\n",
       "}\n",
       "#h2o-table-3 .h2o-table caption {\n",
       "  white-space: nowrap;\n",
       "  caption-side: top;\n",
       "  text-align: left;\n",
       "  /* margin-left: 1em; */\n",
       "  margin: 0;\n",
       "  font-size: larger;\n",
       "}\n",
       "#h2o-table-3 .h2o-table thead {\n",
       "  white-space: nowrap; \n",
       "  position: sticky;\n",
       "  top: 0;\n",
       "  box-shadow: 0 -1px inset;\n",
       "}\n",
       "#h2o-table-3 .h2o-table tbody {\n",
       "  overflow: auto;\n",
       "}\n",
       "#h2o-table-3 .h2o-table th,\n",
       "#h2o-table-3 .h2o-table td {\n",
       "  text-align: right;\n",
       "  /* border: 1px solid; */\n",
       "}\n",
       "#h2o-table-3 .h2o-table tr:nth-child(even) {\n",
       "  /* background: #F5F5F5 */\n",
       "}\n",
       "\n",
       "</style>      \n",
       "<div id=\"h2o-table-3\" class=\"h2o-container\">\n",
       "  <table class=\"h2o-table\">\n",
       "    <caption></caption>\n",
       "    <thead></thead>\n",
       "    <tbody><tr><td>H2O_cluster_uptime:</td>\n",
       "<td>21 mins 47 secs</td></tr>\n",
       "<tr><td>H2O_cluster_timezone:</td>\n",
       "<td>Europe/Moscow</td></tr>\n",
       "<tr><td>H2O_data_parsing_timezone:</td>\n",
       "<td>UTC</td></tr>\n",
       "<tr><td>H2O_cluster_version:</td>\n",
       "<td>3.46.0.7</td></tr>\n",
       "<tr><td>H2O_cluster_version_age:</td>\n",
       "<td>24 days</td></tr>\n",
       "<tr><td>H2O_cluster_name:</td>\n",
       "<td>H2O_from_python_timerlan_uut7hj</td></tr>\n",
       "<tr><td>H2O_cluster_total_nodes:</td>\n",
       "<td>1</td></tr>\n",
       "<tr><td>H2O_cluster_free_memory:</td>\n",
       "<td>3.896 Gb</td></tr>\n",
       "<tr><td>H2O_cluster_total_cores:</td>\n",
       "<td>8</td></tr>\n",
       "<tr><td>H2O_cluster_allowed_cores:</td>\n",
       "<td>8</td></tr>\n",
       "<tr><td>H2O_cluster_status:</td>\n",
       "<td>locked, healthy</td></tr>\n",
       "<tr><td>H2O_connection_url:</td>\n",
       "<td>http://localhost:54321</td></tr>\n",
       "<tr><td>H2O_connection_proxy:</td>\n",
       "<td>{\"http\": null, \"https\": null}</td></tr>\n",
       "<tr><td>H2O_internal_security:</td>\n",
       "<td>False</td></tr>\n",
       "<tr><td>Python_version:</td>\n",
       "<td>3.9.6 final</td></tr></tbody>\n",
       "  </table>\n",
       "</div>\n"
      ],
      "text/plain": [
       "--------------------------  -------------------------------\n",
       "H2O_cluster_uptime:         21 mins 47 secs\n",
       "H2O_cluster_timezone:       Europe/Moscow\n",
       "H2O_data_parsing_timezone:  UTC\n",
       "H2O_cluster_version:        3.46.0.7\n",
       "H2O_cluster_version_age:    24 days\n",
       "H2O_cluster_name:           H2O_from_python_timerlan_uut7hj\n",
       "H2O_cluster_total_nodes:    1\n",
       "H2O_cluster_free_memory:    3.896 Gb\n",
       "H2O_cluster_total_cores:    8\n",
       "H2O_cluster_allowed_cores:  8\n",
       "H2O_cluster_status:         locked, healthy\n",
       "H2O_connection_url:         http://localhost:54321\n",
       "H2O_connection_proxy:       {\"http\": null, \"https\": null}\n",
       "H2O_internal_security:      False\n",
       "Python_version:             3.9.6 final\n",
       "--------------------------  -------------------------------"
      ]
     },
     "metadata": {},
     "output_type": "display_data"
    },
    {
     "name": "stdout",
     "output_type": "stream",
     "text": [
      "Parse progress: |████████████████████████████████████████████████████████████████| (done) 100%\n",
      "Parse progress: |████████████████████████████████████████████████████████████████| (done) 100%\n",
      "AutoML progress: |\n",
      "19:45:31.492: AutoML: XGBoost is not available; skipping it.\n",
      "\n",
      "███████████████████████████████████████████████████████████████| (done) 100%\n",
      "gbm prediction progress: |███████████████████████████████████████████████████████| (done) 100%\n"
     ]
    }
   ],
   "source": [
    "# H2O AutoML\n",
    "h2o.init()\n",
    "\n",
    "train_df = X_train_transformed.copy()\n",
    "train_df['Healthy_Status'] = y_train_transformed.values\n",
    "\n",
    "train_h2o = h2o.H2OFrame(train_df)\n",
    "test_h2o = h2o.H2OFrame(X_test_transformed)\n",
    "\n",
    "target = 'Healthy_Status'\n",
    "features = [col for col in train_h2o.columns if col != target]\n",
    "\n",
    "train_h2o[target] = train_h2o[target].asfactor()\n",
    "\n",
    "aml = H2OAutoML(\n",
    "    max_runtime_secs=300,\n",
    "    max_models=20,\n",
    "    seed=42,\n",
    "    sort_metric='AUTO',\n",
    "    nfolds=5\n",
    ")\n",
    "\n",
    "aml.train(x=features, y=target, training_frame=train_h2o)\n",
    "\n",
    "preds = aml.leader.predict(test_h2o).as_data_frame()\n",
    "y_pred = preds['predict']\n",
    "\n",
    "h2o_f1_macro = f1_score(y_test, y_pred, average='macro')\n",
    "h2o_f1_weighted = f1_score(y_test, y_pred, average='weighted')\n",
    "h2o_cm = confusion_matrix(y_test, y_pred)\n",
    "\n",
    "results_transformed.append({\n",
    "    'AutoML': 'H2O',\n",
    "    'F1 Macro': h2o_f1_macro,\n",
    "    'F1 Weighted': h2o_f1_weighted,\n",
    "    'Confusion Matrix': h2o_cm\n",
    "})"
   ]
  },
  {
   "cell_type": "code",
   "execution_count": 20,
   "metadata": {},
   "outputs": [
    {
     "name": "stdout",
     "output_type": "stream",
     "text": [
      "        AutoML  F1 Macro  F1 Weighted\n",
      "0        FEDOT  0.801424     0.861023\n",
      "1  LightAutoML  0.782671     0.854187\n",
      "2          H2O  0.773376     0.851749\n"
     ]
    },
    {
     "data": {
      "image/png": "[encoded data removed]",
      "text/plain": [
       "<Figure size 1500x400 with 3 Axes>"
      ]
     },
     "metadata": {},
     "output_type": "display_data"
    }
   ],
   "source": [
    "results_df = pd.DataFrame(results_transformed).drop(columns=['Confusion Matrix'])\n",
    "print(results_df)\n",
    "\n",
    "n_models = len(results_transformed)\n",
    "fig, axes = plt.subplots(1, n_models, figsize=(5 * n_models, 4))\n",
    "\n",
    "if n_models == 1:\n",
    "    axes = [axes]\n",
    "\n",
    "for ax, r in zip(axes, results_transformed):\n",
    "    cm = r['Confusion Matrix']\n",
    "    automl_name = r['AutoML']\n",
    "    sns.heatmap(cm, annot=True, fmt='d', cmap='Blues', cbar=False, ax=ax)\n",
    "    ax.set_title(f'Confusion Matrix\\n{automl_name}')\n",
    "    ax.set_xlabel('Predicted')\n",
    "    ax.set_ylabel('Actual')\n",
    "\n",
    "plt.tight_layout()\n",
    "plt.show()"
   ]
  },
  {
   "cell_type": "code",
   "execution_count": 35,
   "metadata": {},
   "outputs": [
    {
     "data": {
      "text/plain": [
       "['fedot_model.pkl']"
      ]
     },
     "execution_count": 35,
     "metadata": {},
     "output_type": "execute_result"
    }
   ],
   "source": [
    "# Сохраняем дамп лучшей модели\n",
    "joblib.dump(fedot_model, 'fedot_model.pkl')"
   ]
  },
  {
   "cell_type": "code",
   "execution_count": null,
   "metadata": {},
   "outputs": [
    {
     "name": "stdout",
     "output_type": "stream",
     "text": [
      "Server is running at http://127.0.0.1:8000\n"
     ]
    },
    {
     "name": "stderr",
     "output_type": "stream",
     "text": [
      "INFO:     Started server process [88679]\n",
      "INFO:     Waiting for application startup.\n",
      "INFO:     Application startup complete.\n",
      "INFO:     Uvicorn running on http://0.0.0.0:8000 (Press CTRL+C to quit)\n"
     ]
    },
    {
     "name": "stdout",
     "output_type": "stream",
     "text": [
      "INFO:     127.0.0.1:62907 - \"GET /metrics HTTP/1.1\" 307 Temporary Redirect\n",
      "INFO:     127.0.0.1:62907 - \"GET /metrics/ HTTP/1.1\" 500 Internal Server Error\n"
     ]
    },
    {
     "name": "stderr",
     "output_type": "stream",
     "text": [
      "ERROR:    Exception in ASGI application\n",
      "Traceback (most recent call last):\n",
      "  File \"/Users/timerlan/Desktop/StudyProjects/4/PPA/.venv/lib/python3.9/site-packages/uvicorn/protocols/http/h11_impl.py\", line 403, in run_asgi\n",
      "    result = await app(  # type: ignore[func-returns-value]\n",
      "  File \"/Users/timerlan/Desktop/StudyProjects/4/PPA/.venv/lib/python3.9/site-packages/uvicorn/middleware/proxy_headers.py\", line 60, in __call__\n",
      "    return await self.app(scope, receive, send)\n",
      "  File \"/Users/timerlan/Desktop/StudyProjects/4/PPA/.venv/lib/python3.9/site-packages/fastapi/applications.py\", line 1054, in __call__\n",
      "    await super().__call__(scope, receive, send)\n",
      "  File \"/Users/timerlan/Desktop/StudyProjects/4/PPA/.venv/lib/python3.9/site-packages/starlette/applications.py\", line 112, in __call__\n",
      "    await self.middleware_stack(scope, receive, send)\n",
      "  File \"/Users/timerlan/Desktop/StudyProjects/4/PPA/.venv/lib/python3.9/site-packages/starlette/middleware/errors.py\", line 187, in __call__\n",
      "    raise exc\n",
      "  File \"/Users/timerlan/Desktop/StudyProjects/4/PPA/.venv/lib/python3.9/site-packages/starlette/middleware/errors.py\", line 165, in __call__\n",
      "    await self.app(scope, receive, _send)\n",
      "  File \"/Users/timerlan/Desktop/StudyProjects/4/PPA/.venv/lib/python3.9/site-packages/starlette/middleware/exceptions.py\", line 62, in __call__\n",
      "    await wrap_app_handling_exceptions(self.app, conn)(scope, receive, send)\n",
      "  File \"/Users/timerlan/Desktop/StudyProjects/4/PPA/.venv/lib/python3.9/site-packages/starlette/_exception_handler.py\", line 53, in wrapped_app\n",
      "    raise exc\n",
      "  File \"/Users/timerlan/Desktop/StudyProjects/4/PPA/.venv/lib/python3.9/site-packages/starlette/_exception_handler.py\", line 42, in wrapped_app\n",
      "    await app(scope, receive, sender)\n",
      "  File \"/Users/timerlan/Desktop/StudyProjects/4/PPA/.venv/lib/python3.9/site-packages/starlette/routing.py\", line 714, in __call__\n",
      "    await self.middleware_stack(scope, receive, send)\n",
      "  File \"/Users/timerlan/Desktop/StudyProjects/4/PPA/.venv/lib/python3.9/site-packages/starlette/routing.py\", line 734, in app\n",
      "    await route.handle(scope, receive, send)\n",
      "  File \"/Users/timerlan/Desktop/StudyProjects/4/PPA/.venv/lib/python3.9/site-packages/starlette/routing.py\", line 288, in handle\n",
      "    await self.app(scope, receive, send)\n",
      "  File \"/Users/timerlan/Desktop/StudyProjects/4/PPA/.venv/lib/python3.9/site-packages/starlette/routing.py\", line 76, in app\n",
      "    await wrap_app_handling_exceptions(app, request)(scope, receive, send)\n",
      "  File \"/Users/timerlan/Desktop/StudyProjects/4/PPA/.venv/lib/python3.9/site-packages/starlette/_exception_handler.py\", line 53, in wrapped_app\n",
      "    raise exc\n",
      "  File \"/Users/timerlan/Desktop/StudyProjects/4/PPA/.venv/lib/python3.9/site-packages/starlette/_exception_handler.py\", line 42, in wrapped_app\n",
      "    await app(scope, receive, sender)\n",
      "  File \"/Users/timerlan/Desktop/StudyProjects/4/PPA/.venv/lib/python3.9/site-packages/starlette/routing.py\", line 73, in app\n",
      "    response = await f(request)\n",
      "  File \"/Users/timerlan/Desktop/StudyProjects/4/PPA/.venv/lib/python3.9/site-packages/fastapi/routing.py\", line 301, in app\n",
      "    raw_response = await run_endpoint_function(\n",
      "  File \"/Users/timerlan/Desktop/StudyProjects/4/PPA/.venv/lib/python3.9/site-packages/fastapi/routing.py\", line 212, in run_endpoint_function\n",
      "    return await dependant.call(**values)\n",
      "  File \"/var/folders/2r/n41m80yd2yn8f157cxmlq47m0000gn/T/ipykernel_88679/2924650261.py\", line 23, in get_metrics\n",
      "    fedot_preds = fedot_model.predict(features=X_test_transformed)\n",
      "NameError: name 'X_test_transformed' is not defined\n"
     ]
    },
    {
     "name": "stdout",
     "output_type": "stream",
     "text": [
      "INFO:     127.0.0.1:62925 - \"GET /metrics HTTP/1.1\" 307 Temporary Redirect\n",
      "INFO:     127.0.0.1:62925 - \"GET /metrics/ HTTP/1.1\" 200 OK\n",
      "INFO:     127.0.0.1:62933 - \"GET /predict HTTP/1.1\" 307 Temporary Redirect\n",
      "INFO:     127.0.0.1:62933 - \"GET /predict/ HTTP/1.1\" 405 Method Not Allowed\n",
      "INFO:     127.0.0.1:62945 - \"POST /predict HTTP/1.1\" 307 Temporary Redirect\n",
      "INFO:     127.0.0.1:62945 - \"POST /predict/ HTTP/1.1\" 422 Unprocessable Entity\n",
      "INFO:     127.0.0.1:62980 - \"POST /predict HTTP/1.1\" 307 Temporary Redirect\n",
      "INFO:     127.0.0.1:62980 - \"POST /predict/ HTTP/1.1\" 422 Unprocessable Entity\n",
      "INFO:     127.0.0.1:62992 - \"POST /predict HTTP/1.1\" 307 Temporary Redirect\n",
      "INFO:     127.0.0.1:62992 - \"POST /predict/ HTTP/1.1\" 500 Internal Server Error\n"
     ]
    },
    {
     "name": "stderr",
     "output_type": "stream",
     "text": [
      "ERROR:    Exception in ASGI application\n",
      "Traceback (most recent call last):\n",
      "  File \"/Users/timerlan/Desktop/StudyProjects/4/PPA/.venv/lib/python3.9/site-packages/uvicorn/protocols/http/h11_impl.py\", line 403, in run_asgi\n",
      "    result = await app(  # type: ignore[func-returns-value]\n",
      "  File \"/Users/timerlan/Desktop/StudyProjects/4/PPA/.venv/lib/python3.9/site-packages/uvicorn/middleware/proxy_headers.py\", line 60, in __call__\n",
      "    return await self.app(scope, receive, send)\n",
      "  File \"/Users/timerlan/Desktop/StudyProjects/4/PPA/.venv/lib/python3.9/site-packages/fastapi/applications.py\", line 1054, in __call__\n",
      "    await super().__call__(scope, receive, send)\n",
      "  File \"/Users/timerlan/Desktop/StudyProjects/4/PPA/.venv/lib/python3.9/site-packages/starlette/applications.py\", line 112, in __call__\n",
      "    await self.middleware_stack(scope, receive, send)\n",
      "  File \"/Users/timerlan/Desktop/StudyProjects/4/PPA/.venv/lib/python3.9/site-packages/starlette/middleware/errors.py\", line 187, in __call__\n",
      "    raise exc\n",
      "  File \"/Users/timerlan/Desktop/StudyProjects/4/PPA/.venv/lib/python3.9/site-packages/starlette/middleware/errors.py\", line 165, in __call__\n",
      "    await self.app(scope, receive, _send)\n",
      "  File \"/Users/timerlan/Desktop/StudyProjects/4/PPA/.venv/lib/python3.9/site-packages/starlette/middleware/exceptions.py\", line 62, in __call__\n",
      "    await wrap_app_handling_exceptions(self.app, conn)(scope, receive, send)\n",
      "  File \"/Users/timerlan/Desktop/StudyProjects/4/PPA/.venv/lib/python3.9/site-packages/starlette/_exception_handler.py\", line 53, in wrapped_app\n",
      "    raise exc\n",
      "  File \"/Users/timerlan/Desktop/StudyProjects/4/PPA/.venv/lib/python3.9/site-packages/starlette/_exception_handler.py\", line 42, in wrapped_app\n",
      "    await app(scope, receive, sender)\n",
      "  File \"/Users/timerlan/Desktop/StudyProjects/4/PPA/.venv/lib/python3.9/site-packages/starlette/routing.py\", line 714, in __call__\n",
      "    await self.middleware_stack(scope, receive, send)\n",
      "  File \"/Users/timerlan/Desktop/StudyProjects/4/PPA/.venv/lib/python3.9/site-packages/starlette/routing.py\", line 734, in app\n",
      "    await route.handle(scope, receive, send)\n",
      "  File \"/Users/timerlan/Desktop/StudyProjects/4/PPA/.venv/lib/python3.9/site-packages/starlette/routing.py\", line 288, in handle\n",
      "    await self.app(scope, receive, send)\n",
      "  File \"/Users/timerlan/Desktop/StudyProjects/4/PPA/.venv/lib/python3.9/site-packages/starlette/routing.py\", line 76, in app\n",
      "    await wrap_app_handling_exceptions(app, request)(scope, receive, send)\n",
      "  File \"/Users/timerlan/Desktop/StudyProjects/4/PPA/.venv/lib/python3.9/site-packages/starlette/_exception_handler.py\", line 53, in wrapped_app\n",
      "    raise exc\n",
      "  File \"/Users/timerlan/Desktop/StudyProjects/4/PPA/.venv/lib/python3.9/site-packages/starlette/_exception_handler.py\", line 42, in wrapped_app\n",
      "    await app(scope, receive, sender)\n",
      "  File \"/Users/timerlan/Desktop/StudyProjects/4/PPA/.venv/lib/python3.9/site-packages/starlette/routing.py\", line 73, in app\n",
      "    response = await f(request)\n",
      "  File \"/Users/timerlan/Desktop/StudyProjects/4/PPA/.venv/lib/python3.9/site-packages/fastapi/routing.py\", line 301, in app\n",
      "    raw_response = await run_endpoint_function(\n",
      "  File \"/Users/timerlan/Desktop/StudyProjects/4/PPA/.venv/lib/python3.9/site-packages/fastapi/routing.py\", line 212, in run_endpoint_function\n",
      "    return await dependant.call(**values)\n",
      "  File \"/var/folders/2r/n41m80yd2yn8f157cxmlq47m0000gn/T/ipykernel_88679/2924650261.py\", line 16, in predict\n",
      "    prediction = fedot_model.predict(features=features)  # Получение предсказания\n",
      "  File \"/Users/timerlan/Desktop/StudyProjects/4/PPA/.venv/lib/python3.9/site-packages/fedot/api/main.py\", line 291, in predict\n",
      "    self.test_data = self.data_processor.define_data(target=self.target, features=features, is_predict=True)\n",
      "  File \"/Users/timerlan/Desktop/StudyProjects/4/PPA/.venv/lib/python3.9/site-packages/fedot/api/api_utils/api_data.py\", line 80, in define_data\n",
      "    data = self.preprocessor.obligatory_prepare_for_predict(data)\n",
      "  File \"/Users/timerlan/Desktop/StudyProjects/4/PPA/.venv/lib/python3.9/site-packages/fedot/preprocessing/preprocessing.py\", line 125, in obligatory_prepare_for_predict\n",
      "    data = self._prepare_obligatory_unimodal(data, source_name=DEFAULT_SOURCE_NAME, is_fit_stage=False)\n",
      "  File \"/Users/timerlan/Desktop/StudyProjects/4/PPA/.venv/lib/python3.9/site-packages/fedot/preprocessing/data_type_check.py\", line 10, in wrapper\n",
      "    return preprocessing_function(self, input_data, source_name, *args, **kwargs)\n",
      "  File \"/Users/timerlan/Desktop/StudyProjects/4/PPA/.venv/lib/python3.9/site-packages/fedot/preprocessing/data_type_check.py\", line 20, in wrapper\n",
      "    return preprocessing_function(self, input_data, source_name, *args, **kwargs)\n",
      "  File \"/Users/timerlan/Desktop/StudyProjects/4/PPA/.venv/lib/python3.9/site-packages/fedot/preprocessing/data_type_check.py\", line 30, in wrapper\n",
      "    return preprocessing_function(self, input_data, source_name, *args, **kwargs)\n",
      "  File \"/Users/timerlan/Desktop/StudyProjects/4/PPA/.venv/lib/python3.9/site-packages/fedot/preprocessing/preprocessing.py\", line 215, in _prepare_obligatory_unimodal\n",
      "    self._take_only_correct_features(data, source_name)\n",
      "  File \"/Users/timerlan/Desktop/StudyProjects/4/PPA/.venv/lib/python3.9/site-packages/fedot/preprocessing/preprocessing.py\", line 174, in _take_only_correct_features\n",
      "    data.features = data.features[:, current_relevant_ids]\n",
      "IndexError: index 1 is out of bounds for axis 1 with size 1\n"
     ]
    },
    {
     "name": "stdout",
     "output_type": "stream",
     "text": [
      "INFO:     127.0.0.1:63012 - \"POST /predict HTTP/1.1\" 307 Temporary Redirect\n",
      "INFO:     127.0.0.1:63012 - \"POST /predict/ HTTP/1.1\" 422 Unprocessable Entity\n",
      "INFO:     127.0.0.1:63021 - \"POST /predict HTTP/1.1\" 307 Temporary Redirect\n",
      "INFO:     127.0.0.1:63021 - \"POST /predict/ HTTP/1.1\" 200 OK\n"
     ]
    }
   ],
   "source": [
    "# Загрузка модели\n",
    "model_path = 'fedot_model.pkl'\n",
    "fedot_model = joblib.load(model_path)\n",
    "\n",
    "# Создание приложения FastAPI\n",
    "app = FastAPI()\n",
    "\n",
    "# Определение модели данных\n",
    "class DataInput(BaseModel):\n",
    "    features: list  # Список с признаками\n",
    "\n",
    "# Создание endpoint для получения предсказания\n",
    "@app.post(\"/predict/\")\n",
    "async def predict(data: DataInput):\n",
    "    features = np.array(data.features).reshape(1, -1)  # Преобразование данных в нужный формат\n",
    "    prediction = fedot_model.predict(features=features)  # Получение предсказания\n",
    "    return {\"prediction\": prediction.tolist()}\n",
    "\n",
    "# Пример endpoint для получения метрик F1 и матрицы ошибок\n",
    "@app.get(\"/metrics/\")\n",
    "async def get_metrics():\n",
    "    # Предсказания для теста\n",
    "    fedot_preds = fedot_model.predict(features=X_test_transformed)\n",
    "    fedot_f1_macro = f1_score(y_test, fedot_preds, average='macro')\n",
    "    fedot_f1_weighted = f1_score(y_test, fedot_preds, average='weighted')\n",
    "    fedot_cm = confusion_matrix(y_test, fedot_preds)\n",
    "\n",
    "    return {\n",
    "        \"F1 Macro\": fedot_f1_macro,\n",
    "        \"F1 Weighted\": fedot_f1_weighted,\n",
    "        \"Confusion Matrix\": fedot_cm.tolist()\n",
    "    }\n",
    "\n",
    "# Запускаем приложение\n",
    "def run_uvicorn():\n",
    "    uvicorn.run(app, host=\"0.0.0.0\", port=8000)\n",
    "\n",
    "# Запускаем сервер FastAPI в отдельном потоке\n",
    "server_thread = Thread(target=run_uvicorn)\n",
    "server_thread.start()\n",
    "\n",
    "print(\"Server is running at http://127.0.0.1:8000\")"
   ]
  }
 ],
 "metadata": {
  "kernelspec": {
   "display_name": ".venv",
   "language": "python",
   "name": "python3"
  },
  "language_info": {
   "codemirror_mode": {
    "name": "ipython",
    "version": 3
   },
   "file_extension": ".py",
   "mimetype": "text/x-python",
   "name": "python",
   "nbconvert_exporter": "python",
   "pygments_lexer": "ipython3",
   "version": "3.9.6"
  }
 },
 "nbformat": 4,
 "nbformat_minor": 2
}
